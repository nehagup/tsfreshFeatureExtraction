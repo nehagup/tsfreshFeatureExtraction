{
 "cells": [
  {
   "cell_type": "code",
   "execution_count": 1,
   "metadata": {},
   "outputs": [
    {
     "name": "stderr",
     "output_type": "stream",
     "text": [
      "/usr/local/lib/python3.5/dist-packages/statsmodels/compat/pandas.py:56: FutureWarning: The pandas.core.datetools module is deprecated and will be removed in a future version. Please use the pandas.tseries module instead.\n",
      "  from pandas.core import datetools\n"
     ]
    }
   ],
   "source": [
    "import numpy as np\n",
    "import matplotlib.pyplot as plt\n",
    "import glob\n",
    "import os\n",
    "import pandas as pd\n",
    "from sklearn.feature_extraction.text import CountVectorizer\n",
    "from tsfresh.feature_extraction import extract_features\n",
    "from tsfresh.feature_extraction.settings import ComprehensiveFCParameters, MinimalFCParameters, EfficientFCParameters\n",
    "from tsfresh.feature_extraction.settings import from_columns"
   ]
  },
  {
   "cell_type": "code",
   "execution_count": 2,
   "metadata": {},
   "outputs": [],
   "source": [
    "# os.getcwd()  #check current working directory"
   ]
  },
  {
   "cell_type": "code",
   "execution_count": 3,
   "metadata": {},
   "outputs": [
    {
     "data": {
      "text/plain": [
       "0        290\n",
       "1        252\n",
       "2        194\n",
       "3        163\n",
       "4        145\n",
       "5        140\n",
       "6        140\n",
       "7        140\n",
       "8        140\n",
       "9         30\n",
       "10         4\n",
       "11        76\n",
       "12       189\n",
       "13       209\n",
       "14       213\n",
       "15       215\n",
       "16       141\n",
       "17        73\n",
       "18        69\n",
       "19        85\n",
       "20        83\n",
       "21        85\n",
       "22       117\n",
       "23       151\n",
       "24       155\n",
       "25       161\n",
       "26       163\n",
       "27       163\n",
       "28       163\n",
       "29       163\n",
       "        ... \n",
       "23077    203\n",
       "23078    199\n",
       "23079    201\n",
       "23080    245\n",
       "23081    256\n",
       "23082    258\n",
       "23083    254\n",
       "23084    247\n",
       "23085    246\n",
       "23086    244\n",
       "23087    240\n",
       "23088    240\n",
       "23089    240\n",
       "23090    238\n",
       "23091    234\n",
       "23092    228\n",
       "23093    225\n",
       "23094    220\n",
       "23095    238\n",
       "23096    318\n",
       "23097    336\n",
       "23098    350\n",
       "23099    360\n",
       "23100    369\n",
       "23101    384\n",
       "23102    396\n",
       "23103    396\n",
       "23104    397\n",
       "23105    398\n",
       "23106    398\n",
       "Name: x, Length: 23107, dtype: int64"
      ]
     },
     "execution_count": 3,
     "metadata": {},
     "output_type": "execute_result"
    }
   ],
   "source": [
    "# data = pd.read_csv('Mouse-Dynamics-Challenge/training_files/user35/session_1909471574')\n",
    "data = pd.read_csv('Mouse-Dynamics-Challenge/training_files/user35/trial.csv')\n",
    "# print (data)\n",
    "# data.describe()\n",
    "pd.to_numeric(data['record timestamp'])\n",
    "pd.to_numeric(data['client timestamp'])\n",
    "pd.to_numeric(data['y'])\n",
    "pd.to_numeric(data['x'])\n",
    "# record_t = pd.to_numeric(data['record timestamp'])\n",
    "# client_t = pd.to_numeric(data['client timestamp'])\n",
    "# y = pd.to_numeric(data['y'])\n",
    "# x = pd.to_numeric(data['x'])\n",
    "\n",
    "# vectorizer = CountVectorizer(min_df=1)\n",
    "# x = vectorizer.fit_transform(data).toarray()\n",
    "# x"
   ]
  },
  {
   "cell_type": "code",
   "execution_count": 4,
   "metadata": {},
   "outputs": [],
   "source": [
    "settings_minimal = MinimalFCParameters() # only a few basic features"
   ]
  },
  {
   "cell_type": "code",
   "execution_count": null,
   "metadata": {},
   "outputs": [],
   "source": [
    "X_tsfresh = extract_features(data, column_id=\"client timestamp\", column_sort=\"record timestamp\")"
   ]
  },
  {
   "cell_type": "code",
   "execution_count": null,
   "metadata": {},
   "outputs": [],
   "source": []
  }
 ],
 "metadata": {
  "kernelspec": {
   "display_name": "Python 3",
   "language": "python",
   "name": "python3"
  },
  "language_info": {
   "codemirror_mode": {
    "name": "ipython",
    "version": 3
   },
   "file_extension": ".py",
   "mimetype": "text/x-python",
   "name": "python",
   "nbconvert_exporter": "python",
   "pygments_lexer": "ipython3",
   "version": "3.5.2"
  }
 },
 "nbformat": 4,
 "nbformat_minor": 2
}
